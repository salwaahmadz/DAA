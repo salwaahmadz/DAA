{
  "nbformat": 4,
  "nbformat_minor": 0,
  "metadata": {
    "colab": {
      "name": "DAA.ipynb",
      "provenance": []
    },
    "kernelspec": {
      "name": "python3",
      "display_name": "Python 3"
    },
    "language_info": {
      "name": "python"
    }
  },
  "cells": [
    {
      "cell_type": "code",
      "metadata": {
        "id": "fwMV6xFUbg_C"
      },
      "source": [
        "import numpy as np\n",
        "print(np.__version__)\n",
        "\n"
      ],
      "execution_count": null,
      "outputs": []
    },
    {
      "cell_type": "code",
      "metadata": {
        "id": "SdJqtH9qrBwG"
      },
      "source": [
        "print(\"Hello World\")\n",
        "print(\"Nama saya Salwa\")\n",
        "print(\"NIM saya 2020071047\")"
      ],
      "execution_count": null,
      "outputs": []
    },
    {
      "cell_type": "code",
      "metadata": {
        "id": "VUjiaLrvrBow"
      },
      "source": [
        "if 5 > 2:\n",
        "  print(\"Five is greater than two!\")"
      ],
      "execution_count": null,
      "outputs": []
    },
    {
      "cell_type": "code",
      "metadata": {
        "id": "3X02i7h0q-VU"
      },
      "source": [
        "x = 5\n",
        "y = \"john\"\n",
        "print(x)\n",
        "print(y)"
      ],
      "execution_count": null,
      "outputs": []
    },
    {
      "cell_type": "code",
      "metadata": {
        "id": "Mxi5769Pq1nT"
      },
      "source": [
        "x = 4\n",
        "x = \"Sally\"\n",
        "print(x)"
      ],
      "execution_count": null,
      "outputs": []
    },
    {
      "cell_type": "code",
      "metadata": {
        "id": "_ZNMYsGtrW9w"
      },
      "source": [
        "def getFirst(myList):\n",
        "  return myList[2]\n",
        "getFirst([1,2,3])\n"
      ],
      "execution_count": null,
      "outputs": []
    },
    {
      "cell_type": "code",
      "metadata": {
        "id": "Pak1Pr26tHdG"
      },
      "source": [
        "def getSecond(myList):\n",
        "  return myList[2]\n",
        "getSecond([1,2,3])"
      ],
      "execution_count": null,
      "outputs": []
    },
    {
      "cell_type": "code",
      "metadata": {
        "id": "8GC50CXZC5nR"
      },
      "source": [
        "def getSum(myList):\n",
        "  sum = 0\n",
        "  for item in myList:\n",
        "    sum=sum+item\n",
        "  return sum\n",
        "getSum([1,2,3,4])"
      ],
      "execution_count": null,
      "outputs": []
    },
    {
      "cell_type": "code",
      "metadata": {
        "id": "4IIKlrqvETnh"
      },
      "source": [
        "def getKali(myList):\n",
        "  kali = 1\n",
        "  for item in myList:\n",
        "    kali=kali*item\n",
        "  return kali\n",
        "getKali([1,2,3,4])\n",
        "  "
      ],
      "execution_count": null,
      "outputs": []
    },
    {
      "cell_type": "code",
      "metadata": {
        "id": "pwxeiO85GBgt"
      },
      "source": [
        "def getBagi(myList):\n",
        "  bagi = 10\n",
        "  for item in myList:\n",
        "    bagi=bagi/item\n",
        "  return bagi\n",
        "getBagi([1,2])"
      ],
      "execution_count": null,
      "outputs": []
    },
    {
      "cell_type": "code",
      "metadata": {
        "colab": {
          "base_uri": "https://localhost:8080/"
        },
        "id": "ZhoGxILCI7cq",
        "outputId": "4c35f9b1-bf3e-470c-d5fb-2b27bef0aea1"
      },
      "source": [
        "def getSum(myList):\n",
        "  sum = 0\n",
        "  for row in myList:\n",
        "    for item in row:\n",
        "      sum += item\n",
        "  return sum\n",
        "\n",
        "getSum([[1,2,5], [3,4,7]])"
      ],
      "execution_count": 55,
      "outputs": [
        {
          "output_type": "execute_result",
          "data": {
            "text/plain": [
              "22"
            ]
          },
          "metadata": {},
          "execution_count": 55
        }
      ]
    },
    {
      "cell_type": "code",
      "metadata": {
        "colab": {
          "base_uri": "https://localhost:8080/"
        },
        "id": "33Po0VhDKxUL",
        "outputId": "2fd1cb8c-e33c-41d6-adfa-9ea6825e2508"
      },
      "source": [
        "def getBagi(myList):\n",
        "  bagi = 100\n",
        "  for row in myList:\n",
        "    for item in row:\n",
        "      bagi /= item\n",
        "  return bagi\n",
        "\n",
        "getBagi([[5], [4]])"
      ],
      "execution_count": 58,
      "outputs": [
        {
          "output_type": "execute_result",
          "data": {
            "text/plain": [
              "5.0"
            ]
          },
          "metadata": {},
          "execution_count": 58
        }
      ]
    },
    {
      "cell_type": "code",
      "metadata": {
        "id": "P1Qerx8SN35N"
      },
      "source": [
        "def getKurang(myList):\n",
        "  kurang = 50\n",
        "  for row in myList:\n",
        "    for item in row:\n",
        "      kurang -= item\n",
        "  return kurang\n",
        "\n",
        "getKurang([[5, 2, 3], [9, 8, 6]])"
      ],
      "execution_count": null,
      "outputs": []
    },
    {
      "cell_type": "code",
      "metadata": {
        "colab": {
          "base_uri": "https://localhost:8080/"
        },
        "id": "JMXg6AEDTkxU",
        "outputId": "607e10da-e800-4a3e-800a-63acb92e49db"
      },
      "source": [
        "def searchBinary(myList,item):\n",
        "    first = 0\n",
        "    last = len(myList)-1\n",
        "    foundFlag = False\n",
        "    while( first<=last and not foundFlag):\n",
        "        mid = (first + last) //2\n",
        "        if myList[mid] == item :\n",
        "            foundFlag = True\n",
        "        else:\n",
        "            if item < myList[mid]:\n",
        "                last = mid - 1\n",
        "            else:\n",
        "                first = mid + 1\n",
        "    return foundFlag\n",
        "searchBinary ([8,9,10,100,1000,2000,3000], 10)\n",
        "#searchBinary ([8,9,10,100,1000,2000,3000], 5)"
      ],
      "execution_count": 83,
      "outputs": [
        {
          "output_type": "execute_result",
          "data": {
            "text/plain": [
              "True"
            ]
          },
          "metadata": {},
          "execution_count": 83
        }
      ]
    }
  ]
}