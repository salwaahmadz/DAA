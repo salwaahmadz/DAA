{
  "nbformat": 4,
  "nbformat_minor": 0,
  "metadata": {
    "colab": {
      "name": "DAAWeek13.ipynb",
      "provenance": [],
      "authorship_tag": "ABX9TyNDMx6ZvZm0mB4mItpx2QdC",
      "include_colab_link": true
    },
    "kernelspec": {
      "name": "python3",
      "display_name": "Python 3"
    },
    "language_info": {
      "name": "python"
    }
  },
  "cells": [
    {
      "cell_type": "markdown",
      "metadata": {
        "id": "view-in-github",
        "colab_type": "text"
      },
      "source": [
        "<a href=\"https://colab.research.google.com/github/salwaahmadz/DAA/blob/main/DAAWeek13.ipynb\" target=\"_parent\"><img src=\"https://colab.research.google.com/assets/colab-badge.svg\" alt=\"Open In Colab\"/></a>"
      ]
    },
    {
      "cell_type": "code",
      "metadata": {
        "id": "zIKirT5QJ16n"
      },
      "source": [
        "def bfs(graph, start):\n",
        "    visited = []\n",
        "    queue = [start]\n",
        "\n",
        "    while queue:\n",
        "        node = queue.pop(0)\n",
        "        if node not in visited:\n",
        "            visited.append(node)\n",
        "            neighbours = graph[node]\n",
        "            for neighbour in neighbours:\n",
        "                queue.append(neighbour)\n",
        "    \n",
        "    return visited"
      ],
      "execution_count": 6,
      "outputs": []
    },
    {
      "cell_type": "code",
      "metadata": {
        "id": "oCfMzD34LG3o"
      },
      "source": [
        "graph = {'Amin' : {'Wasim', 'Nick', 'Mike'},\n",
        "         'Wasim' : {'Imran', 'Amin'},\n",
        "         'Imran' : {'Wasim', 'Faras'},\n",
        "         'Faras' : {'Imran'},\n",
        "         'Mike' : {'Amin'},\n",
        "         'Nick' : ['Amin']}"
      ],
      "execution_count": 4,
      "outputs": []
    },
    {
      "cell_type": "code",
      "metadata": {
        "colab": {
          "base_uri": "https://localhost:8080/"
        },
        "id": "kRq0YSFNLtnV",
        "outputId": "c55aa6f9-e559-4327-ef59-96cf83916c0a"
      },
      "source": [
        "bfs(graph, 'Amin')"
      ],
      "execution_count": 7,
      "outputs": [
        {
          "output_type": "execute_result",
          "data": {
            "text/plain": [
              "['Amin', 'Mike', 'Wasim', 'Nick', 'Imran', 'Faras']"
            ]
          },
          "metadata": {},
          "execution_count": 7
        }
      ]
    },
    {
      "cell_type": "code",
      "metadata": {
        "colab": {
          "base_uri": "https://localhost:8080/"
        },
        "id": "KctLC06JMYIF",
        "outputId": "5a5c89ca-e87b-4686-a4f6-07a973ecf11e"
      },
      "source": [
        "bfs(graph, 'Wasim')"
      ],
      "execution_count": 8,
      "outputs": [
        {
          "output_type": "execute_result",
          "data": {
            "text/plain": [
              "['Wasim', 'Amin', 'Imran', 'Mike', 'Nick', 'Faras']"
            ]
          },
          "metadata": {},
          "execution_count": 8
        }
      ]
    },
    {
      "cell_type": "code",
      "metadata": {
        "colab": {
          "base_uri": "https://localhost:8080/"
        },
        "id": "DWPuOUNwMaZB",
        "outputId": "dfd0570a-a81b-4626-9b18-710a1443ad3e"
      },
      "source": [
        "bfs(graph, 'Faras')"
      ],
      "execution_count": 9,
      "outputs": [
        {
          "output_type": "execute_result",
          "data": {
            "text/plain": [
              "['Faras', 'Imran', 'Wasim', 'Amin', 'Mike', 'Nick']"
            ]
          },
          "metadata": {},
          "execution_count": 9
        }
      ]
    },
    {
      "cell_type": "code",
      "metadata": {
        "id": "vuEQ10EaMhF9"
      },
      "source": [
        "# Algoritma Depth-First Search\n",
        "def dfs(graph, start, visited=None):\n",
        "    if visited is None:\n",
        "        visited = set()\n",
        "    visited.add(start)\n",
        "    print(start)\n",
        "    for next in graph[start] - visited:\n",
        "        dfs(graph, next, visited)\n",
        "    return visited"
      ],
      "execution_count": 28,
      "outputs": []
    },
    {
      "cell_type": "code",
      "metadata": {
        "id": "veGrQhufNDyI"
      },
      "source": [
        "graph = {'Amin' : {'Wasim', 'Nick', 'Mike'},\n",
        "         'Wasim' : {'Imran', 'Amin'},\n",
        "         'Imran' : {'Wasim', 'Faras'},\n",
        "         'Faras' : {'Imran'},\n",
        "         'Mike' : {'Amin'},\n",
        "         'Nick' : ['Amin']}"
      ],
      "execution_count": 29,
      "outputs": []
    },
    {
      "cell_type": "code",
      "metadata": {
        "id": "3cpOaRxHNJre"
      },
      "source": [
        "dfs(graph, 'Amin')"
      ],
      "execution_count": null,
      "outputs": []
    },
    {
      "cell_type": "code",
      "metadata": {
        "id": "sZgEADbbYA-i"
      },
      "source": [
        "dfs(graph, 'Wasim')"
      ],
      "execution_count": null,
      "outputs": []
    },
    {
      "cell_type": "code",
      "metadata": {
        "id": "7MZzZtgpaW-P"
      },
      "source": [
        "dfs(graph, 'Nick')"
      ],
      "execution_count": null,
      "outputs": []
    },
    {
      "cell_type": "code",
      "metadata": {
        "id": "du0ebas0esoW"
      },
      "source": [
        "graph={'Rektor' : {'Warek1', 'Warek2'},\n",
        "       'Warek1' : {'Rektor'},\n",
        "       'Warek2' : {'Rektor', 'Kaprodi1', 'Kaprodi2', 'Kaprodi3'},\n",
        "       'Kaprodi1' : {'Warek2', 'Dosen A', 'Dosen B', 'Dosen C'},\n",
        "       'Dosen A' : {'Kaprodi1'},\n",
        "       'Dosen B' : {'Kaprodi1'},\n",
        "       'Dosen C' : {'Kaprodi1'},\n",
        "       'Kaprodi2' : {'Warek2', 'Dosen D', 'Dosen E'},\n",
        "       'Dosen D' : {'Kaprodi2'},\n",
        "       'Dosen E' : {'Kaprodi2'},\n",
        "       'Kaprodi3' : {'Warek2', 'Dosen F', 'Dosen G'},\n",
        "       'Dosen F' : {Kaprodi3},\n",
        "       'Dosen G' : {Kaprodi3}}\n",
        "\n",
        "dfs(graph, 'Rektor')"
      ],
      "execution_count": null,
      "outputs": []
    }
  ]
}