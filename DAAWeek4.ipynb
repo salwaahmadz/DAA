{
  "nbformat": 4,
  "nbformat_minor": 0,
  "metadata": {
    "colab": {
      "name": "DAA.ipynb",
      "provenance": []
    },
    "kernelspec": {
      "name": "python3",
      "display_name": "Python 3"
    },
    "language_info": {
      "name": "python"
    }
  },
  "cells": [
    {
      "cell_type": "code",
      "metadata": {
        "id": "fwMV6xFUbg_C"
      },
      "source": [
        "import numpy as np\n",
        "print(np.__version__)"
      ],
      "execution_count": null,
      "outputs": []
    },
    {
      "cell_type": "code",
      "metadata": {
        "id": "SdJqtH9qrBwG"
      },
      "source": [
        "print(\"Hello World\")\n",
        "print(\"Nama saya Salwa\")\n",
        "print(\"NIM saya 2020071047\")"
      ],
      "execution_count": null,
      "outputs": []
    },
    {
      "cell_type": "code",
      "metadata": {
        "id": "VUjiaLrvrBow"
      },
      "source": [
        "if 5 > 2:\n",
        "  print(\"Five is greater than two!\")"
      ],
      "execution_count": null,
      "outputs": []
    },
    {
      "cell_type": "code",
      "metadata": {
        "id": "3X02i7h0q-VU",
        "colab": {
          "base_uri": "https://localhost:8080/"
        },
        "outputId": "e0df0740-d8f1-4734-c453-e72ee72dc4b4"
      },
      "source": [
        "x = 5\n",
        "y = \"john\"\n",
        "print(x)\n",
        "print(y)"
      ],
      "execution_count": null,
      "outputs": [
        {
          "output_type": "stream",
          "name": "stdout",
          "text": [
            "5\n",
            "john\n"
          ]
        }
      ]
    },
    {
      "cell_type": "code",
      "metadata": {
        "id": "Mxi5769Pq1nT"
      },
      "source": [
        "x = 4\n",
        "x = \"Sally\"\n",
        "print(x)"
      ],
      "execution_count": null,
      "outputs": []
    },
    {
      "cell_type": "code",
      "metadata": {
        "id": "_ZNMYsGtrW9w"
      },
      "source": [
        "def getFirst(myList):\n",
        "  return myList[2]\n",
        "getFirst([1,2,3])\n"
      ],
      "execution_count": null,
      "outputs": []
    },
    {
      "cell_type": "code",
      "metadata": {
        "id": "Pak1Pr26tHdG"
      },
      "source": [
        "def getSecond(myList):\n",
        "  return myList[2]\n",
        "getSecond([1,2,3])"
      ],
      "execution_count": null,
      "outputs": []
    },
    {
      "cell_type": "code",
      "metadata": {
        "id": "8GC50CXZC5nR"
      },
      "source": [
        "def getSum(myList):\n",
        "  sum = 0\n",
        "  for item in myList:\n",
        "    sum=sum+item\n",
        "  return sum\n",
        "getSum([1,2,3,4])"
      ],
      "execution_count": null,
      "outputs": []
    },
    {
      "cell_type": "code",
      "metadata": {
        "id": "4IIKlrqvETnh"
      },
      "source": [
        "def getKali(myList):\n",
        "  kali = 1\n",
        "  for item in myList:\n",
        "    kali=kali*item\n",
        "  return kali\n",
        "getKali([1,2,3,4])\n",
        "  "
      ],
      "execution_count": null,
      "outputs": []
    },
    {
      "cell_type": "code",
      "metadata": {
        "id": "pwxeiO85GBgt"
      },
      "source": [
        "def getBagi(myList):\n",
        "  bagi = 10\n",
        "  for item in myList:\n",
        "    bagi=bagi/item\n",
        "  return bagi\n",
        "getBagi([1,2])"
      ],
      "execution_count": null,
      "outputs": []
    },
    {
      "cell_type": "code",
      "metadata": {
        "colab": {
          "base_uri": "https://localhost:8080/"
        },
        "id": "ZhoGxILCI7cq",
        "outputId": "4c35f9b1-bf3e-470c-d5fb-2b27bef0aea1"
      },
      "source": [
        "def getSum(myList):\n",
        "  sum = 0\n",
        "  for row in myList:\n",
        "    for item in row:\n",
        "      sum += item\n",
        "  return sum\n",
        "\n",
        "getSum([[1,2,5], [3,4,7]])"
      ],
      "execution_count": null,
      "outputs": [
        {
          "output_type": "execute_result",
          "data": {
            "text/plain": [
              "22"
            ]
          },
          "metadata": {},
          "execution_count": 55
        }
      ]
    },
    {
      "cell_type": "code",
      "metadata": {
        "colab": {
          "base_uri": "https://localhost:8080/"
        },
        "id": "33Po0VhDKxUL",
        "outputId": "2fd1cb8c-e33c-41d6-adfa-9ea6825e2508"
      },
      "source": [
        "def getBagi(myList):\n",
        "  bagi = 100\n",
        "  for row in myList:\n",
        "    for item in row:\n",
        "      bagi /= item\n",
        "  return bagi\n",
        "\n",
        "getBagi([[5], [4]])"
      ],
      "execution_count": null,
      "outputs": [
        {
          "output_type": "execute_result",
          "data": {
            "text/plain": [
              "5.0"
            ]
          },
          "metadata": {},
          "execution_count": 58
        }
      ]
    },
    {
      "cell_type": "code",
      "metadata": {
        "id": "P1Qerx8SN35N"
      },
      "source": [
        "def getKurang(myList):\n",
        "  kurang = 50\n",
        "  for row in myList:\n",
        "    for item in row:\n",
        "      kurang -= item\n",
        "  return kurang\n",
        "\n",
        "getKurang([[5, 2, 3], [9, 8, 6]])"
      ],
      "execution_count": null,
      "outputs": []
    },
    {
      "cell_type": "code",
      "metadata": {
        "colab": {
          "base_uri": "https://localhost:8080/"
        },
        "id": "JMXg6AEDTkxU",
        "outputId": "607e10da-e800-4a3e-800a-63acb92e49db"
      },
      "source": [
        "def searchBinary(myList,item):\n",
        "    first = 0\n",
        "    last = len(myList)-1\n",
        "    foundFlag = False\n",
        "    while( first<=last and not foundFlag):\n",
        "        mid = (first + last) //2\n",
        "        if myList[mid] == item :\n",
        "            foundFlag = True\n",
        "        else:\n",
        "            if item < myList[mid]:\n",
        "                last = mid - 1\n",
        "            else:\n",
        "                first = mid + 1\n",
        "    return foundFlag\n",
        "searchBinary ([8,9,10,100,1000,2000,3000], 10)\n",
        "#searchBinary ([8,9,10,100,1000,2000,3000], 5)"
      ],
      "execution_count": null,
      "outputs": [
        {
          "output_type": "execute_result",
          "data": {
            "text/plain": [
              "True"
            ]
          },
          "metadata": {},
          "execution_count": 83
        }
      ]
    },
    {
      "cell_type": "code",
      "metadata": {
        "colab": {
          "base_uri": "https://localhost:8080/"
        },
        "id": "Vs7BOr43hzEQ",
        "outputId": "c7858aef-61ab-42ad-b07c-0e866e264e0c"
      },
      "source": [
        "#swap function\n",
        "var1 = 1\n",
        "var2 = 2\n",
        "var1, var2 = var2, var1\n",
        "print(var1,var2)"
      ],
      "execution_count": 3,
      "outputs": [
        {
          "output_type": "stream",
          "name": "stdout",
          "text": [
            "2 1\n"
          ]
        }
      ]
    },
    {
      "cell_type": "code",
      "metadata": {
        "colab": {
          "base_uri": "https://localhost:8080/"
        },
        "id": "XHrlPT23icpI",
        "outputId": "488c6a2b-d798-4ad3-9eb8-b49c855e3066"
      },
      "source": [
        "#swap function\n",
        "var1 = 1\n",
        "var2 = 2\n",
        "var3= 3\n",
        "var1, var2, var3 = var3, var1, var2\n",
        "print(var1,var2, var3)"
      ],
      "execution_count": 5,
      "outputs": [
        {
          "output_type": "stream",
          "name": "stdout",
          "text": [
            "3 1 2\n"
          ]
        }
      ]
    },
    {
      "cell_type": "code",
      "metadata": {
        "colab": {
          "base_uri": "https://localhost:8080/"
        },
        "id": "lsC3JRKpjOBG",
        "outputId": "945beb3d-85b3-4665-a53c-2236776f374e"
      },
      "source": [
        "list=[25,21,22,24,23,27,26]\n",
        "#modifikasi sesuai angka favorit anda\n",
        "\n",
        "#proses penukaran bubble sort\n",
        "\n",
        "lastElementIndex = len(list)-1\n",
        "print(0,list)\n",
        "for idx in range(lastElementIndex):\n",
        "  if list[idx]>list[idx+1]:\n",
        "    list[idx], list[idx+1]=list[idx+1],list[idx]\n",
        "    print(idx+1,list)"
      ],
      "execution_count": 21,
      "outputs": [
        {
          "output_type": "stream",
          "name": "stdout",
          "text": [
            "0 [25, 21, 22, 24, 23, 27, 26]\n",
            "1 [21, 25, 22, 24, 23, 27, 26]\n",
            "2 [21, 22, 25, 24, 23, 27, 26]\n",
            "3 [21, 22, 24, 25, 23, 27, 26]\n",
            "4 [21, 22, 24, 23, 25, 27, 26]\n",
            "6 [21, 22, 24, 23, 25, 26, 27]\n"
          ]
        }
      ]
    },
    {
      "cell_type": "code",
      "metadata": {
        "colab": {
          "base_uri": "https://localhost:8080/"
        },
        "id": "nPf3gYTbnrJV",
        "outputId": "28f0a370-fc31-48d9-ff69-bb7935e9a68d"
      },
      "source": [
        "list"
      ],
      "execution_count": 22,
      "outputs": [
        {
          "output_type": "execute_result",
          "data": {
            "text/plain": [
              "[21, 22, 24, 23, 25, 26, 27]"
            ]
          },
          "metadata": {},
          "execution_count": 22
        }
      ]
    },
    {
      "cell_type": "code",
      "metadata": {
        "id": "zOaZ_6CfmZN8"
      },
      "source": [
        "def BubbleSort(list):\n",
        "  #exchange the element to arrange in order\n",
        "  lastElementIndex = len(list)-1\n",
        "  for passNo in range(lastElementIndex,0,-1):\n",
        "    for idx in range (passNo):\n",
        "      if list[idx]>list[idx+1]:\n",
        "        list[idx], list[idx+1] = list[idx+1], list[idx]\n",
        "  return list"
      ],
      "execution_count": 49,
      "outputs": []
    },
    {
      "cell_type": "code",
      "metadata": {
        "id": "VyuH9-vPnx9h"
      },
      "source": [
        "list=[25,21,22,24,23,27,26]"
      ],
      "execution_count": 18,
      "outputs": []
    },
    {
      "cell_type": "code",
      "metadata": {
        "colab": {
          "base_uri": "https://localhost:8080/"
        },
        "id": "FzILdJy5n1Vp",
        "outputId": "4603280b-b6ee-4c0f-ec64-0de4bc0eea27"
      },
      "source": [
        "BubbleSort(list)"
      ],
      "execution_count": 24,
      "outputs": [
        {
          "output_type": "execute_result",
          "data": {
            "text/plain": [
              "[21, 22, 23, 24, 25, 26, 27]"
            ]
          },
          "metadata": {},
          "execution_count": 24
        }
      ]
    },
    {
      "cell_type": "code",
      "metadata": {
        "colab": {
          "base_uri": "https://localhost:8080/"
        },
        "id": "v_u6EWK0n47Q",
        "outputId": "d8fc66ea-f0c8-4dc5-a8ad-876540c8138d"
      },
      "source": [
        "list"
      ],
      "execution_count": 25,
      "outputs": [
        {
          "output_type": "execute_result",
          "data": {
            "text/plain": [
              "[21, 22, 23, 24, 25, 26, 27]"
            ]
          },
          "metadata": {},
          "execution_count": 25
        }
      ]
    },
    {
      "cell_type": "code",
      "metadata": {
        "colab": {
          "base_uri": "https://localhost:8080/"
        },
        "id": "5JaYmmRRqmQP",
        "outputId": "00bec67f-c9ce-466c-ca62-ae0f98821a30"
      },
      "source": [
        "list=[100,20,60,90,40,30,10]\n",
        "BubbleSort(list)\n",
        "list"
      ],
      "execution_count": 50,
      "outputs": [
        {
          "output_type": "execute_result",
          "data": {
            "text/plain": [
              "[10, 20, 30, 40, 60, 90, 100]"
            ]
          },
          "metadata": {},
          "execution_count": 50
        }
      ]
    },
    {
      "cell_type": "code",
      "metadata": {
        "id": "wlKOjdsjsmeO"
      },
      "source": [
        "def InsertionSort(list):\n",
        "  for i in range(1, len(list)):\n",
        "      j = i-1\n",
        "      next = list[i]\n",
        "#Compare the current element with next one\n",
        "      while(list[j] > next) and (j >= 0):\n",
        "          list [j+1] = list[j]\n",
        "          j=j-1\n",
        "      list[j+1] = next\n",
        "  return list "
      ],
      "execution_count": 51,
      "outputs": []
    },
    {
      "cell_type": "code",
      "metadata": {
        "id": "oryHl-I7tRxH"
      },
      "source": [
        "list = [35,31,32,34,33,37,36]"
      ],
      "execution_count": 52,
      "outputs": []
    },
    {
      "cell_type": "code",
      "metadata": {
        "colab": {
          "base_uri": "https://localhost:8080/"
        },
        "id": "eOopN3AQtYBY",
        "outputId": "b6335729-e741-4a6e-d877-be0253869e61"
      },
      "source": [
        "list"
      ],
      "execution_count": 53,
      "outputs": [
        {
          "output_type": "execute_result",
          "data": {
            "text/plain": [
              "[35, 31, 32, 34, 33, 37, 36]"
            ]
          },
          "metadata": {},
          "execution_count": 53
        }
      ]
    },
    {
      "cell_type": "code",
      "metadata": {
        "colab": {
          "base_uri": "https://localhost:8080/"
        },
        "id": "_SSzP6zntZZC",
        "outputId": "240de708-6e78-49e2-a4a6-a1625a8d6b17"
      },
      "source": [
        "InsertionSort(list)"
      ],
      "execution_count": 54,
      "outputs": [
        {
          "output_type": "execute_result",
          "data": {
            "text/plain": [
              "[31, 32, 33, 34, 35, 36, 37]"
            ]
          },
          "metadata": {},
          "execution_count": 54
        }
      ]
    },
    {
      "cell_type": "code",
      "metadata": {
        "colab": {
          "base_uri": "https://localhost:8080/"
        },
        "id": "4fvqHBsau8G3",
        "outputId": "7ca61b0d-fef6-4c2b-abd4-748bbf0d5547"
      },
      "source": [
        "list = [89,12,57,16,25,11,75]\n",
        "InsertionSort(list)"
      ],
      "execution_count": 56,
      "outputs": [
        {
          "output_type": "execute_result",
          "data": {
            "text/plain": [
              "[11, 12, 16, 25, 57, 75, 89]"
            ]
          },
          "metadata": {},
          "execution_count": 56
        }
      ]
    },
    {
      "cell_type": "code",
      "metadata": {
        "id": "o7QRJvB6x7ws"
      },
      "source": [
        "def SelectionSort(list):\n",
        "  for fill_slot in range(len(list) - 1, 0, -1):\n",
        "    max_index = 0\n",
        "    for location in range (1, fill_slot + 1):\n",
        "        if list[location] > list[max_index]:\n",
        "          max_index = location\n",
        "    list[fill_slot], list[max_index] = list[max_index],list[fill_slot]\n",
        "  return list"
      ],
      "execution_count": 59,
      "outputs": []
    },
    {
      "cell_type": "code",
      "metadata": {
        "colab": {
          "base_uri": "https://localhost:8080/"
        },
        "id": "BmH2o2Jozd-a",
        "outputId": "6c447264-d222-4fbd-8b9c-709a21458879"
      },
      "source": [
        "list = [70,15,25,19,34,44]\n",
        "SelectionSort(list)"
      ],
      "execution_count": 60,
      "outputs": [
        {
          "output_type": "execute_result",
          "data": {
            "text/plain": [
              "[15, 19, 25, 34, 44, 70]"
            ]
          },
          "metadata": {},
          "execution_count": 60
        }
      ]
    },
    {
      "cell_type": "code",
      "metadata": {
        "colab": {
          "base_uri": "https://localhost:8080/"
        },
        "id": "JNlnpq7Nzl9E",
        "outputId": "cc18808c-ce93-4255-c974-229d83a689b3"
      },
      "source": [
        "list"
      ],
      "execution_count": 61,
      "outputs": [
        {
          "output_type": "execute_result",
          "data": {
            "text/plain": [
              "[15, 19, 25, 34, 44, 70]"
            ]
          },
          "metadata": {},
          "execution_count": 61
        }
      ]
    },
    {
      "cell_type": "code",
      "metadata": {
        "colab": {
          "base_uri": "https://localhost:8080/"
        },
        "id": "Fy0QljSg1I5o",
        "outputId": "4ae227ed-c559-44b0-d325-12047a02d6b4"
      },
      "source": [
        "list=[89,12,57,16,25]\n",
        "SelectionSort(list)"
      ],
      "execution_count": 62,
      "outputs": [
        {
          "output_type": "execute_result",
          "data": {
            "text/plain": [
              "[12, 16, 25, 57, 89]"
            ]
          },
          "metadata": {},
          "execution_count": 62
        }
      ]
    },
    {
      "cell_type": "code",
      "metadata": {
        "id": "Gw27pDyeJLjs"
      },
      "source": [
        "# Linear Search\n",
        "def LinearSearch(list, item):\n",
        "    index = 0\n",
        "    found = False\n",
        "\n",
        "#Match the value with each data element\n",
        "    while index < len(list) and found is False:\n",
        "        if list[index] == item:\n",
        "            found = True\n",
        "        else:\n",
        "            index = index + 1\n",
        "    return found"
      ],
      "execution_count": 64,
      "outputs": []
    },
    {
      "cell_type": "code",
      "metadata": {
        "colab": {
          "base_uri": "https://localhost:8080/"
        },
        "id": "D4DAxXDmJmTM",
        "outputId": "85927813-88be-4bf2-a49f-3b5c114848d8"
      },
      "source": [
        "list = [12,33,11,99,22,55,90]\n",
        "print(LinearSearch(list, 12))\n",
        "print(LinearSearch(list, 91))"
      ],
      "execution_count": 65,
      "outputs": [
        {
          "output_type": "stream",
          "name": "stdout",
          "text": [
            "True\n",
            "False\n"
          ]
        }
      ]
    },
    {
      "cell_type": "code",
      "metadata": {
        "colab": {
          "base_uri": "https://localhost:8080/"
        },
        "id": "qtAHD2YOKmLH",
        "outputId": "2742db03-dcfc-4912-9916-bec6e4e40e10"
      },
      "source": [
        "list = ['y','u','i','w','o','a','q','u','j','p']\n",
        "print(LinearSearch(list, 'a'))"
      ],
      "execution_count": 66,
      "outputs": [
        {
          "output_type": "stream",
          "name": "stdout",
          "text": [
            "True\n"
          ]
        }
      ]
    },
    {
      "cell_type": "code",
      "metadata": {
        "id": "pcxDNTdeMmMs"
      },
      "source": [
        "def BinarySearch(list, item):\n",
        "  first = 0\n",
        "  last = len(list)-1\n",
        "  found = False\n",
        "\n",
        "  while first<=last and not found:\n",
        "      midpoint = (first + last )//2\n",
        "      if list [midpoint] == item:\n",
        "          found = True\n",
        "\n",
        "      else:\n",
        "        if item < list[midpoint]:\n",
        "            last = midpoint-1\n",
        "        else:\n",
        "            first = midpoint+1\n",
        "  return found "
      ],
      "execution_count": 69,
      "outputs": []
    },
    {
      "cell_type": "code",
      "metadata": {
        "colab": {
          "base_uri": "https://localhost:8080/"
        },
        "id": "KwysLisGNP-4",
        "outputId": "ef546ea6-0536-4d84-c51b-85ae62962433"
      },
      "source": [
        "list = [12,33,11,99,22,55,90]\n",
        "sorted_list = BubbleSort(list)\n",
        "print(BinarySearch(list,12))\n",
        "print(BinarySearch(list,91))"
      ],
      "execution_count": 72,
      "outputs": [
        {
          "output_type": "stream",
          "name": "stdout",
          "text": [
            "True\n",
            "False\n"
          ]
        }
      ]
    },
    {
      "cell_type": "code",
      "metadata": {
        "colab": {
          "base_uri": "https://localhost:8080/"
        },
        "id": "iNuG6pEJPKIf",
        "outputId": "6c5173b9-ec27-4c50-e58e-cb357b2d4126"
      },
      "source": [
        "list = ['y','u','i','w','o','a','q','u','j','p']\n",
        "sorted_list = BubbleSort(list)\n",
        "print(BinarySearch(list,'a'))"
      ],
      "execution_count": 73,
      "outputs": [
        {
          "output_type": "stream",
          "name": "stdout",
          "text": [
            "True\n"
          ]
        }
      ]
    },
    {
      "cell_type": "code",
      "metadata": {
        "id": "0zH7Y2XgRghT"
      },
      "source": [
        "def IntPolSearch(list,x):\n",
        "  idx0 = 0\n",
        "  idxn = (len(list) - 1)\n",
        "  found = False\n",
        "  while idx0 <= idxn and x >= list[idx0] and x <= list[idxn]:\n",
        "\n",
        "#find the midpoint\n",
        "      mid = idx0 +int(((float (idxn - idx0)/(list[idxn] - list[idx0]))*(x - list[idx0])))\n",
        "\n",
        "#compare the value at midpoint with search value\n",
        "      if list[mid] == x:\n",
        "          found = True\n",
        "          return found\n",
        "\n",
        "      if list[mid]<x:\n",
        "          idx0 = mid + 1\n",
        "  return found"
      ],
      "execution_count": 78,
      "outputs": []
    },
    {
      "cell_type": "code",
      "metadata": {
        "colab": {
          "base_uri": "https://localhost:8080/"
        },
        "id": "DdcqpzWWSvro",
        "outputId": "2e12cfd7-8003-4a2a-a0fc-94e6b9180afb"
      },
      "source": [
        "list = [12,33,11,99,22,55,90]\n",
        "sorted_list = BubbleSort(list)\n",
        "print(IntPolSearch(list, 12))\n",
        "print(IntPolSearch(list, 91))"
      ],
      "execution_count": 76,
      "outputs": [
        {
          "output_type": "stream",
          "name": "stdout",
          "text": [
            "True\n",
            "False\n"
          ]
        }
      ]
    },
    {
      "cell_type": "code",
      "metadata": {
        "colab": {
          "base_uri": "https://localhost:8080/"
        },
        "id": "JV9HnQjrWG-E",
        "outputId": "42600f7c-4ef1-4920-eb08-d9103e32fb70"
      },
      "source": [
        "list = [20, 2, 7, 1, 4, 7]\n",
        "sorted_list = BubbleSort(list)\n",
        "print(IntPolSearch(list, 2))\n",
        "print(IntPolSearch(list, 5))"
      ],
      "execution_count": 94,
      "outputs": [
        {
          "output_type": "stream",
          "name": "stdout",
          "text": [
            "True\n",
            "False\n"
          ]
        }
      ]
    }
  ]
}