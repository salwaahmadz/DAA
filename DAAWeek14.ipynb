{
  "nbformat": 4,
  "nbformat_minor": 0,
  "metadata": {
    "colab": {
      "name": "DAAWeek14.ipynb",
      "provenance": [],
      "authorship_tag": "ABX9TyPuzalEG92M6GmO9+/z64pB",
      "include_colab_link": true
    },
    "kernelspec": {
      "name": "python3",
      "display_name": "Python 3"
    },
    "language_info": {
      "name": "python"
    }
  },
  "cells": [
    {
      "cell_type": "markdown",
      "metadata": {
        "id": "view-in-github",
        "colab_type": "text"
      },
      "source": [
        "<a href=\"https://colab.research.google.com/github/salwaahmadz/DAA/blob/main/DAAWeek14.ipynb\" target=\"_parent\"><img src=\"https://colab.research.google.com/assets/colab-badge.svg\" alt=\"Open In Colab\"/></a>"
      ]
    },
    {
      "cell_type": "code",
      "metadata": {
        "id": "rJ_vU4wvvxgI"
      },
      "source": [
        "import networkx as nx\n",
        "import matplotlib.pyplot as plt"
      ],
      "execution_count": 1,
      "outputs": []
    },
    {
      "cell_type": "code",
      "metadata": {
        "id": "luoYbLkLwaJ4"
      },
      "source": [
        "vertices = range(1,10)\n",
        "edges= range(1,10)\n",
        "edges= [(7,2), (2,3), (7,4), (4,5), (7,3), (7,5), (1,6), (1,7), (2,8), (2,9)]"
      ],
      "execution_count": 2,
      "outputs": []
    },
    {
      "cell_type": "code",
      "metadata": {
        "id": "YCbX333ywbrP"
      },
      "source": [
        "G = nx.Graph()"
      ],
      "execution_count": 3,
      "outputs": []
    },
    {
      "cell_type": "code",
      "metadata": {
        "id": "W6A0DD8LweLc"
      },
      "source": [
        "G.add_nodes_from(vertices)\n",
        "G.add_edges_from(edges)\n",
        "pos=nx.spring_layout(G)"
      ],
      "execution_count": 4,
      "outputs": []
    },
    {
      "cell_type": "code",
      "metadata": {
        "colab": {
          "base_uri": "https://localhost:8080/",
          "height": 404
        },
        "id": "842b2VmxwkBs",
        "outputId": "e5c483a1-241e-4abf-a392-c17040407f0f"
      },
      "source": [
        "nx.draw_networkx_nodes(G,pos,nodelist=[1,4,3,8,9],node_color='g',node_size=1300)\n",
        "\n",
        "nx.draw_networkx_nodes(G,pos,nodelist= [2,5,6,7],node_color='r',node_size=1300)\n",
        "\n",
        "nx.draw_networkx_edges(G,pos,edges,width=3,alpha=0.5,edge_color='b')\n",
        "labels={}\n",
        "labels[1]=r'1 NF'\n",
        "labels[2]=r'2 F'\n",
        "labels[3]=r'3 NF'\n",
        "labels[4]=r'4 NF'\n",
        "labels[5]=r'5 F'\n",
        "labels[6]=r'6 F'\n",
        "labels[7]=r'7 F'\n",
        "labels[8]=r'8 NF'\n",
        "labels[9]=r'9 NF'\n",
        "\n",
        "nx.draw_networkx_labels(G,pos,labels,font_size=16)"
      ],
      "execution_count": 5,
      "outputs": [
        {
          "output_type": "execute_result",
          "data": {
            "text/plain": [
              "{1: Text(0.05752743490029397, -0.5949729133346745, '1 NF'),\n",
              " 2: Text(-0.2208684830041555, 0.3755799239855577, '2 F'),\n",
              " 3: Text(-0.16659265374638083, 0.08092029992040306, '3 NF'),\n",
              " 4: Text(0.5249819644077163, -0.18726570785963068, '4 NF'),\n",
              " 5: Text(0.5309764484279207, 0.05582582233052703, '5 F'),\n",
              " 6: Text(-0.007018913417483788, -1.0, '6 F'),\n",
              " 7: Text(0.13329233592434456, -0.07025084013932116, '7 F'),\n",
              " 8: Text(-0.6165630876135492, 0.5410355311145577, '8 NF'),\n",
              " 9: Text(-0.23573504587870614, 0.7991278839825808, '9 NF')}"
            ]
          },
          "metadata": {},
          "execution_count": 5
        },
        {
          "output_type": "display_data",
          "data": {
            "image/png": "[encoded data removed]",
            "text/plain": [
              "<Figure size 432x288 with 1 Axes>"
            ]
          },
          "metadata": {}
        }
      ]
    },
    {
      "cell_type": "code",
      "metadata": {
        "id": "6fFZYnLvwk6P"
      },
      "source": [
        "vertices = range(1,11)\n",
        "edges= range(1,11)\n",
        "edges= [(7,1), (1,2), (2,3), (2,6), (3,6), (7,6), (7,10), (7,8), (8,9), (7,9), (6,5), (3,4)]"
      ],
      "execution_count": 6,
      "outputs": []
    },
    {
      "cell_type": "code",
      "metadata": {
        "id": "VLz053oGwq-c"
      },
      "source": [
        "G = nx.Graph()"
      ],
      "execution_count": 7,
      "outputs": []
    },
    {
      "cell_type": "code",
      "metadata": {
        "id": "SgHa0-QBwsUn"
      },
      "source": [
        "G.add_nodes_from(vertices)\n",
        "G.add_edges_from(edges)\n",
        "pos=nx.spring_layout(G)"
      ],
      "execution_count": 8,
      "outputs": []
    },
    {
      "cell_type": "code",
      "metadata": {
        "colab": {
          "base_uri": "https://localhost:8080/",
          "height": 422
        },
        "id": "avyKd3dqwt3m",
        "outputId": "44db2786-27cf-443e-f995-175ecc020fb6"
      },
      "source": [
        "nx.draw_networkx_nodes(G,pos,nodelist=[2,3,6,8,9],node_color='g',node_size=1300)\n",
        "\n",
        "nx.draw_networkx_nodes(G,pos,nodelist=[1,7,10,5,4],node_color='r',node_size=1300)\n",
        "\n",
        "nx.draw_networkx_edges(G,pos,edges,width=3,alpha=0.5,edge_color='b')\n",
        "labels={}\n",
        "labels[1]=r'1 F'\n",
        "labels[2]=r'2 NF'\n",
        "labels[3]=r'3 NF'\n",
        "labels[4]=r'4 F'\n",
        "labels[5]=r'5 F'\n",
        "labels[6]=r'6 NF'\n",
        "labels[7]=r'7 F'\n",
        "labels[8]=r'8 NF'\n",
        "labels[9]=r'9 NF'\n",
        "labels[10]=r'10 F'\n",
        "\n",
        "nx.draw_networkx_labels(G,pos,labels,font_size=16)"
      ],
      "execution_count": 9,
      "outputs": [
        {
          "output_type": "execute_result",
          "data": {
            "text/plain": [
              "{1: Text(0.08498738005690766, -0.12452028276077529, '1 F'),\n",
              " 2: Text(0.5197234019625087, 0.2026435802905649, '2 NF'),\n",
              " 3: Text(0.6659003097250941, 0.5687939176865432, '3 NF'),\n",
              " 4: Text(0.994296237050219, 1.0, '4 F'),\n",
              " 5: Text(0.36167211312573894, -0.44698689474657294, '5 F'),\n",
              " 6: Text(0.23443844129519484, 0.08327025597185946, '6 NF'),\n",
              " 7: Text(-0.4202434705635338, -0.2143593847657344, '7 F'),\n",
              " 8: Text(-0.9126150404244104, -0.007258137478957852, '8 NF'),\n",
              " 9: Text(-0.9507271538058949, -0.3110377568568414, '9 NF'),\n",
              " 10: Text(-0.5774322184218251, -0.7505452973400859, '10 F')}"
            ]
          },
          "metadata": {},
          "execution_count": 9
        },
        {
          "output_type": "display_data",
          "data": {
            "image/png": "[encoded data removed]",
            "text/plain": [
              "<Figure size 432x288 with 1 Axes>"
            ]
          },
          "metadata": {}
        }
      ]
    },
    {
      "cell_type": "code",
      "metadata": {
        "id": "MCnP1RW6wvYs"
      },
      "source": [
        "vertices = range(1,13)\n",
        "edges= range(1,13)\n",
        "edges= [(3,1), (3,2), (3,12), (2,6), (3,6), (7,6), (7,10), (7,8), (8,9), (7,9), (6,5), (3,4)]"
      ],
      "execution_count": 10,
      "outputs": []
    },
    {
      "cell_type": "code",
      "metadata": {
        "id": "ZcoyX7Bpww4k"
      },
      "source": [
        "G = nx.Graph()"
      ],
      "execution_count": 11,
      "outputs": []
    },
    {
      "cell_type": "code",
      "metadata": {
        "id": "Ftgy5lJ-wx-G"
      },
      "source": [
        "G.add_nodes_from(vertices)\n",
        "G.add_edges_from(edges)\n",
        "pos=nx.spring_layout(G)"
      ],
      "execution_count": 12,
      "outputs": []
    },
    {
      "cell_type": "code",
      "metadata": {
        "colab": {
          "base_uri": "https://localhost:8080/",
          "height": 422
        },
        "id": "XYVmOuOUwytE",
        "outputId": "4aec9da2-4dd1-4e47-eaa2-a7ab43f93645"
      },
      "source": [
        "nx.draw_networkx_nodes(G,pos,nodelist=[2,3,6,8,9],node_color='g',node_size=1300)\n",
        "\n",
        "nx.draw_networkx_nodes(G,pos,nodelist=[1,7,10,5,4],node_color='r',node_size=1300)\n",
        "\n",
        "nx.draw_networkx_edges(G,pos,edges,width=3,alpha=0.5,edge_color='b')\n",
        "labels={}\n",
        "labels[1]=r'1 F'\n",
        "labels[2]=r'2 NF'\n",
        "labels[3]=r'3 NF'\n",
        "labels[4]=r'4 F'\n",
        "labels[5]=r'5 F'\n",
        "labels[6]=r'6 NF'\n",
        "labels[7]=r'7 F'\n",
        "labels[8]=r'8 NF'\n",
        "labels[9]=r'9 NF'\n",
        "labels[10]=r'10 F'\n",
        "\n",
        "nx.draw_networkx_labels(G,pos,labels,font_size=16)"
      ],
      "execution_count": 13,
      "outputs": [
        {
          "output_type": "execute_result",
          "data": {
            "text/plain": [
              "{1: Text(0.19365243918113836, 0.35862374811427833, '1 F'),\n",
              " 2: Text(0.08337905637972332, 0.1531835758658423, '2 NF'),\n",
              " 3: Text(0.1740464966375301, 0.20943384315028934, '3 NF'),\n",
              " 4: Text(0.308435016056065, 0.2857721965499842, '4 F'),\n",
              " 5: Text(-0.11739990959258233, 0.20161462866356814, '5 F'),\n",
              " 6: Text(-0.016957576140624125, 0.10448336078068692, '6 NF'),\n",
              " 7: Text(-0.16982937538470008, -0.05604634121403801, '7 F'),\n",
              " 8: Text(-0.2507440686773703, -0.17456223810418686, '8 NF'),\n",
              " 9: Text(-0.17075097440679582, -0.1951189075397908, '9 NF'),\n",
              " 10: Text(-0.3154844741664905, -0.037191379778193125, '10 F')}"
            ]
          },
          "metadata": {},
          "execution_count": 13
        },
        {
          "output_type": "display_data",
          "data": {
            "image/png": "[encoded data removed]",
            "text/plain": [
              "<Figure size 432x288 with 1 Axes>"
            ]
          },
          "metadata": {}
        }
      ]
    }
  ]
}