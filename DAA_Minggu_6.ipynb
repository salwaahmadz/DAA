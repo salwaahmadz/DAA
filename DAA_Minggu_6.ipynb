{
  "nbformat": 4,
  "nbformat_minor": 0,
  "metadata": {
    "colab": {
      "name": "DAA Minggu 6.ipynb",
      "provenance": [],
      "collapsed_sections": []
    },
    "kernelspec": {
      "name": "python3",
      "display_name": "Python 3"
    },
    "language_info": {
      "name": "python"
    }
  },
  "cells": [
    {
      "cell_type": "code",
      "metadata": {
        "colab": {
          "base_uri": "https://localhost:8080/"
        },
        "id": "ntQD0t438vnV",
        "outputId": "75d296ac-e3ff-4c53-b3b2-327a992dbfb6"
      },
      "source": [
        "#Fibbonacci dengan while\n",
        "nterms = int(input(\"How many terms? \"))\n",
        "n1, n2 = 0, 1\n",
        "count = 0\n",
        "\n",
        "if nterms <= 0:\n",
        "    print(\"Please enter a positive integer\")\n",
        "elif nterms == 1:\n",
        "      print(\"Fibbonacci sequence upto \",nterms,\":\")\n",
        "      print(n1)\n",
        "else:\n",
        "      print(\"Fibonacci sequence:\")\n",
        "      while count < nterms:\n",
        "          print(n1)\n",
        "          nth = n1+n2\n",
        "          #update nilai\n",
        "          n1 = n2\n",
        "          n2 = nth\n",
        "          count += 1"
      ],
      "execution_count": 1,
      "outputs": [
        {
          "output_type": "stream",
          "name": "stdout",
          "text": [
            "How many terms? 25\n",
            "Fibonacci sequence:\n",
            "0\n",
            "1\n",
            "1\n",
            "2\n",
            "3\n",
            "5\n",
            "8\n",
            "13\n",
            "21\n",
            "34\n",
            "55\n",
            "89\n",
            "144\n",
            "233\n",
            "377\n",
            "610\n",
            "987\n",
            "1597\n",
            "2584\n",
            "4181\n",
            "6765\n",
            "10946\n",
            "17711\n",
            "28657\n",
            "46368\n"
          ]
        }
      ]
    },
    {
      "cell_type": "code",
      "metadata": {
        "colab": {
          "base_uri": "https://localhost:8080/"
        },
        "id": "TS2oXJEr88xm",
        "outputId": "ed1f1dcf-e0d7-4310-84e7-9fab14d3d900"
      },
      "source": [
        "#Fibonacci dengan rekursi \n",
        "\n",
        "def recur_fibo(n):\n",
        "    if n<=1:\n",
        "        return n\n",
        "    else:\n",
        "        return(recur_fibo(n-1) + recur_fibo(n-2))\n",
        "\n",
        "nterms = 20\n",
        "\n",
        "# cek apakah nilai nterms valid\n",
        "if nterms <=0:\n",
        "    print(\"Please enter a positive integer\")\n",
        "else:\n",
        "    print(\"Fibonacci sequence:\")\n",
        "for i in range(nterms):\n",
        "    print(recur_fibo(i))"
      ],
      "execution_count": 2,
      "outputs": [
        {
          "output_type": "stream",
          "name": "stdout",
          "text": [
            "Fibonacci sequence:\n",
            "0\n",
            "1\n",
            "1\n",
            "2\n",
            "3\n",
            "5\n",
            "8\n",
            "13\n",
            "21\n",
            "34\n",
            "55\n",
            "89\n",
            "144\n",
            "233\n",
            "377\n",
            "610\n",
            "987\n",
            "1597\n",
            "2584\n",
            "4181\n"
          ]
        }
      ]
    },
    {
      "cell_type": "code",
      "metadata": {
        "colab": {
          "base_uri": "https://localhost:8080/"
        },
        "id": "Xaqzwt_S8_8a",
        "outputId": "723b3201-87b7-427d-e569-90a2a702657f"
      },
      "source": [
        "#Fibonacci dengan rekursi \n",
        "\n",
        "def recur_fibo(n):\n",
        "    if n<=1:\n",
        "        return n\n",
        "    else:\n",
        "        return(recur_fibo(n-1) + recur_fibo(n-2))\n",
        "\n",
        "nterms = int(input(\"how many terms?\"))\n",
        "n1, n2 = 0, 1\n",
        "count = 0\n",
        "\n",
        "# cek apakah nilai nterms valid\n",
        "if nterms <=0:\n",
        "    print(\"Please enter a positive integer\")\n",
        "else:\n",
        "    print(\"Fibonacci sequence:\")\n",
        "for i in range(nterms):\n",
        "    print(recur_fibo(i))"
      ],
      "execution_count": 3,
      "outputs": [
        {
          "output_type": "stream",
          "name": "stdout",
          "text": [
            "how many terms?25\n",
            "Fibonacci sequence:\n",
            "0\n",
            "1\n",
            "1\n",
            "2\n",
            "3\n",
            "5\n",
            "8\n",
            "13\n",
            "21\n",
            "34\n",
            "55\n",
            "89\n",
            "144\n",
            "233\n",
            "377\n",
            "610\n",
            "987\n",
            "1597\n",
            "2584\n",
            "4181\n",
            "6765\n",
            "10946\n",
            "17711\n",
            "28657\n",
            "46368\n"
          ]
        }
      ]
    },
    {
      "cell_type": "code",
      "metadata": {
        "colab": {
          "base_uri": "https://localhost:8080/",
          "height": 265
        },
        "id": "fikmbbnx9Fu6",
        "outputId": "b086be70-c106-4133-912d-eb7e7de41b73"
      },
      "source": [
        "import random\n",
        "from itertools import permutations\n",
        "alltours = permutations\n",
        "\n",
        "def distance_tour(aTour):\n",
        "    return sum(distance_points(aTour[i - 1], aTour[i])\n",
        "      for i in range(len(aTour)))\n",
        "    \n",
        "aCity = complex\n",
        "\n",
        "def distance_points(first, second):\n",
        "      return abs(first - second)\n",
        "\n",
        "def generate_cities (number_of_cities):\n",
        "      seed=111;width=500;height=300\n",
        "      random.seed((number_of_cities, seed))\n",
        "      return frozenset(aCity(random.randint(1, width), random.randint(1,height))\n",
        "        for c in range(number_of_cities))\n",
        "      \n",
        "%matplotlib inline\n",
        "import matplotlib.pyplot as plt\n",
        "\n",
        "def visualize_tour(tour, style='bo-'):\n",
        "    if len(tour) > 1000: plt.figure(figsize=(15, 10))\n",
        "    start = tour[0:1]\n",
        "    visualize_segment(tour + start, style)\n",
        "    visualize_segment(start, 'rD')\n",
        "def visualize_segment (segment, style='bo-'):\n",
        "      plt.plot([X(c) for c in segment], [Y(c) for c in segment], style, clip_on=False)\n",
        "      plt.axis('scaled')\n",
        "      plt.axis('off')\n",
        "\n",
        "def X(city): \"X axis\"; return city.real\n",
        "\n",
        "def Y(city): \"Y axis\"; return city.imag\n",
        "\n",
        "from time import process_time\n",
        "from collections import Counter\n",
        "def tsp(algorithm, cities):\n",
        "    t0 = process_time()\n",
        "    tour = algorithm(cities)\n",
        "    t1 = process_time()\n",
        "    assert Counter(tour) == Counter(cities)\n",
        "    visualize_tour(tour)\n",
        "    print(\"{}:{} cities => tour length {:.0f}(in {:.3f} sec)\".format(name(algorithm), len(tour), distance_tour(tour), t1-t0))\n",
        "\n",
        "def name(algorithm): return algorithm.__name__.replace('_tsp','')\n",
        "\n",
        "def greedy_algorithm(cities, start=None):\n",
        "    C = start or first(cities)\n",
        "    tour = [C]\n",
        "    unvisited = set(cities - {C})\n",
        "    while unvisited:\n",
        "        C = nearest_neighbor(C, unvisited)\n",
        "        tour.append(C)\n",
        "        unvisited.remove(C)\n",
        "    return tour\n",
        "\n",
        "def first(collection): return next(iter(collection))\n",
        "\n",
        "def nearest_neighbor(A, cities):\n",
        "    return min(cities, key=lambda C: distance_points(C, A))\n",
        "\n",
        "tsp(greedy_algorithm, generate_cities(10))"
      ],
      "execution_count": 4,
      "outputs": [
        {
          "output_type": "stream",
          "name": "stdout",
          "text": [
            "greedy_algorithm:10 cities => tour length 1348(in 0.000 sec)\n"
          ]
        },
        {
          "output_type": "display_data",
          "data": {
            "image/png": "[encoded data removed]",
            "text/plain": [
              "<Figure size 432x288 with 1 Axes>"
            ]
          },
          "metadata": {
            "needs_background": "light"
          }
        }
      ]
    },
    {
      "cell_type": "code",
      "metadata": {
        "id": "Fj7hS8FN9KmS"
      },
      "source": [
        "string = 'HUFFMAN'\n",
        "\n",
        "# Creating tree nodes\n",
        "class NodeTree(object):\n",
        "\n",
        "    def __init__(self, left=None, right=None):\n",
        "        self.left = left\n",
        "        self.right = right\n",
        "    \n",
        "    def children(self):\n",
        "        return (self.left, self.right)\n",
        "\n",
        "    def nodes(self):\n",
        "        return(self.left, self.right)\n",
        "      \n",
        "    def __str__(self):\n",
        "        return '%s_%s' % (self.left, self.right)"
      ],
      "execution_count": 6,
      "outputs": []
    },
    {
      "cell_type": "code",
      "metadata": {
        "id": "JTyIJqYr95Uh"
      },
      "source": [
        "# Main function implementing huffman coding\n",
        "def huffman_code_tree(node, left=True, binString=''):\n",
        "    if type(node) is str:\n",
        "        return{node: binString}\n",
        "    (l, r) = node.children()\n",
        "    d = dict()\n",
        "    d.update(huffman_code_tree(l, True, binString + '0'))\n",
        "    d.update(huffman_code_tree(r, False, binString + '1'))\n",
        "    return d"
      ],
      "execution_count": 7,
      "outputs": []
    },
    {
      "cell_type": "code",
      "metadata": {
        "colab": {
          "base_uri": "https://localhost:8080/"
        },
        "id": "ia447MbU97zg",
        "outputId": "d3c8be25-e4c2-41eb-ec8d-d771506aead8"
      },
      "source": [
        "# Calculating frequency\n",
        "freq = {}\n",
        "for c in string:\n",
        "    if c in freq:\n",
        "        freq[c] += 1\n",
        "    else:\n",
        "        freq[c] = 1\n",
        "\n",
        "freq = sorted(freq.items(), key=lambda x: x[1], reverse=True)\n",
        "\n",
        "nodes = freq\n",
        "\n",
        "while len(nodes) > 1:\n",
        "    (key1, c1) = nodes[-1]\n",
        "    (key2, c2) = nodes[-2]\n",
        "    nodes = nodes[:-2]\n",
        "    node = NodeTree(key1, key2)\n",
        "    nodes.append((node, c1 + c2))\n",
        "\n",
        "    nodes = sorted(nodes, key=lambda x: x[1], reverse=True)\n",
        "\n",
        "huffmanCode = huffman_code_tree(nodes[0][0])\n",
        "\n",
        "print(' Char | Huffman code ')\n",
        "print('----------------------')\n",
        "for (char, frequency) in freq:\n",
        "    print(' %-4r |%12s' % (char, huffmanCode[char]))"
      ],
      "execution_count": 8,
      "outputs": [
        {
          "output_type": "stream",
          "name": "stdout",
          "text": [
            " Char | Huffman code \n",
            "----------------------\n",
            " 'F'  |          11\n",
            " 'H'  |          00\n",
            " 'U'  |         011\n",
            " 'M'  |         010\n",
            " 'A'  |         101\n",
            " 'N'  |         100\n"
          ]
        }
      ]
    }
  ]
}