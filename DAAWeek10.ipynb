{
  "nbformat": 4,
  "nbformat_minor": 0,
  "metadata": {
    "colab": {
      "name": "DAAWeek10.ipynb",
      "provenance": [],
      "authorship_tag": "ABX9TyO6eveQsxjI5o3KKVWsCVE1",
      "include_colab_link": true
    },
    "kernelspec": {
      "name": "python3",
      "display_name": "Python 3"
    },
    "language_info": {
      "name": "python"
    }
  },
  "cells": [
    {
      "cell_type": "markdown",
      "metadata": {
        "id": "view-in-github",
        "colab_type": "text"
      },
      "source": [
        "<a href=\"https://colab.research.google.com/github/salwaahmadz/DAA/blob/main/DAAWeek10.ipynb\" target=\"_parent\"><img src=\"https://colab.research.google.com/assets/colab-badge.svg\" alt=\"Open In Colab\"/></a>"
      ]
    },
    {
      "cell_type": "code",
      "metadata": {
        "id": "UD5TtNOR4sV8"
      },
      "source": [
        "pip install pulp==2.3.1"
      ],
      "execution_count": null,
      "outputs": []
    },
    {
      "cell_type": "code",
      "metadata": {
        "id": "oxD5zYtm7Rc-"
      },
      "source": [
        "import pulp"
      ],
      "execution_count": 2,
      "outputs": []
    },
    {
      "cell_type": "code",
      "metadata": {
        "id": "89a1r0Z08Bb2"
      },
      "source": [
        "#Instance our problem class\n",
        "model = pulp.LpProblem(\"ProfitMaximisingProblem\", pulp.LpMaximize)\n",
        "\n",
        "A = pulp.LpVariable('A', lowBound=0, cat='Integer')\n",
        "B = pulp.LpVariable('B', lowBound=0, cat='Integer')"
      ],
      "execution_count": 3,
      "outputs": []
    },
    {
      "cell_type": "code",
      "metadata": {
        "id": "RTtJAjOp9wvH"
      },
      "source": [
        "#Objective Function\n",
        "model += 5000 * A + 2 * B, \"Profit\"\n",
        "#Constraint\n",
        "model += 3 * A + 2 * B <= 20\n",
        "model += 4 * A + 3 * B <= 30\n",
        "model += 4 * A + 3 * B <= 40"
      ],
      "execution_count": 4,
      "outputs": []
    },
    {
      "cell_type": "code",
      "metadata": {
        "id": "cPhHBbhy-KMU"
      },
      "source": [
        "#Solve our problem\n",
        "model.solve()\n",
        "pulp.LpStatus[model.status]"
      ],
      "execution_count": null,
      "outputs": []
    },
    {
      "cell_type": "code",
      "metadata": {
        "id": "i5AtXmhy_AgV"
      },
      "source": [
        "#Print our decision variable values\n",
        "print (A.varValue)\n",
        "print (B.varValue)"
      ],
      "execution_count": null,
      "outputs": []
    },
    {
      "cell_type": "code",
      "metadata": {
        "colab": {
          "base_uri": "https://localhost:8080/"
        },
        "id": "p0oKTxkW_Muz",
        "outputId": "e698c690-7adb-44d6-f30f-8ceb84a36f9f"
      },
      "source": [
        "#print our objective function value\n",
        "print(pulp.value(model.objective))"
      ],
      "execution_count": 14,
      "outputs": [
        {
          "output_type": "stream",
          "name": "stdout",
          "text": [
            "30002.0\n"
          ]
        }
      ]
    },
    {
      "cell_type": "code",
      "metadata": {
        "colab": {
          "base_uri": "https://localhost:8080/"
        },
        "id": "HmpaPTMyE4jm",
        "outputId": "ae562c7c-bad8-401d-ca11-13d578bb09aa"
      },
      "source": [
        "model = pulp.LpProblem(\"MencariHargaBukudanPensil\", pulp.LpMaximize)\n",
        "\n",
        "A = pulp.LpVariable('A', lowBound=0, cat='Integer')\n",
        "B = pulp.LpVariable('B', lowBound=0, cat='Integer')\n",
        "model += 3 * A + 4 * B == 11000\n",
        "model += 1 * A + 7 * B == 15000\n",
        "model += 2 * A + 6 * B\n",
        "model.solve()\n",
        "pulp.LpStatus[model.status]\n",
        "print (A.varValue)\n",
        "print (B.varValue)\n",
        "print(pulp.value(model.objective))"
      ],
      "execution_count": 20,
      "outputs": [
        {
          "output_type": "stream",
          "name": "stdout",
          "text": [
            "1000.0\n",
            "2000.0\n",
            "14000.0\n"
          ]
        }
      ]
    },
    {
      "cell_type": "code",
      "metadata": {
        "id": "x_ZfnODDH-FP"
      },
      "source": [
        "model = pulp.LpProblem(\"MencariPanjangdanLebar\", pulp.LpMaximize)\n",
        "\n",
        "A = pulp.LpVariable('A', lowBound=0, cat='Integer')\n",
        "B = pulp.LpVariable('B', lowBound=0, cat='Integer')\n",
        "model += 2 * A + 2 * B\n",
        "model += 2 * A + 2 * B == 44\n",
        "model += 2 * A + 2 * (A-6) == 44\n",
        "model.solve()\n",
        "pulp.LpStatus[model.status]\n",
        "print (A.varValue)\n",
        "print (B.varValue)\n",
        "print(pulp.value(model.objective))"
      ],
      "execution_count": null,
      "outputs": []
    },
    {
      "cell_type": "code",
      "metadata": {
        "id": "6lp_BSZfKZpr"
      },
      "source": [
        "import numpy as np\n",
        "from scipy.optimize import linprog\n",
        "\n",
        "A = np.array([[1, 0], [2, 3], [1, 1], [-1, 0], [0, -1]])\n",
        "b = np.array([16, 19, 8, 0, 0])\n",
        "c = np.array([-5, -7])\n",
        "\n",
        "res  = linprog(c, A_ub=A, b_ub=b)\n",
        "\n",
        "print('Optimal value:', round(res.fun*-1, ndigits=2),\n",
        "      '\\nx values:', res.x,\n",
        "      '\\nNumber of iteraction performed:', res.nit,\n",
        "      '\\nStatus:', res.message)"
      ],
      "execution_count": null,
      "outputs": []
    },
    {
      "cell_type": "code",
      "metadata": {
        "colab": {
          "base_uri": "https://localhost:8080/"
        },
        "id": "HIhE1WjOXzNk",
        "outputId": "debee9d3-4763-4ce2-f98f-a9b6b8279053"
      },
      "source": [
        "A = np.array([[1, 1], [3, 4], [-1, 0], [0, -1]])\n",
        "b = np.array([16, 55, 0, 0])\n",
        "c = np.array([-1, -1])\n",
        "\n",
        "res  = linprog(c, A_ub=A, b_ub=b)\n",
        "\n",
        "print('Optimal value:', round(res.fun*-1, ndigits=2),\n",
        "      '\\nx values:', res.x,\n",
        "      '\\nNumber of iteraction performed:', res.nit,\n",
        "      '\\nStatus:', res.message)"
      ],
      "execution_count": 29,
      "outputs": [
        {
          "output_type": "stream",
          "name": "stdout",
          "text": [
            "Optimal value: 16.0 \n",
            "x values: [11.28137674  4.71862326] \n",
            "Number of iteraction performed: 5 \n",
            "Status: Optimization terminated successfully.\n"
          ]
        },
        {
          "output_type": "stream",
          "name": "stderr",
          "text": [
            "/usr/local/lib/python3.7/dist-packages/numpy/core/fromnumeric.py:87: VisibleDeprecationWarning: Creating an ndarray from ragged nested sequences (which is a list-or-tuple of lists-or-tuples-or ndarrays with different lengths or shapes) is deprecated. If you meant to do this, you must specify 'dtype=object' when creating the ndarray\n",
            "  return ufunc.reduce(obj, axis, dtype, out, **passkwargs)\n"
          ]
        }
      ]
    }
  ]
}